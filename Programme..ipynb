import matplotlib.pyplot as plt
import os

# Chord definitions: [6, 5, 4, 3, 2, 1]
chords = {
    'A Major': ['x', 0, 2, 2, 2, 0],
    'B Major': ['x', 2, 4, 4, 4, 2],
    'C Major': ['x', 3, 2, 0, 1, 0],
    'D Major': ['x', 'x', 0, 2, 3, 2],
    'E Major': [0, 2, 2, 1, 0, 0],
    'F Major': [1, 3, 3, 2, 0, 1],
    'G Major': [3, 2, 0, 0, 0, 3],
    'A# Major': ['x', 1, 3, 3, 3, 1],
    'C# Major': ['x', 4, 6, 6, 6, 4],
    'D# Major': ['x', 6, 8, 8, 8, 6],
    'F# Major': [2, 4, 4, 3, 0, 2],
    'G# Major': [4, 6, 6, 5, 0, 4],
    'A Minor': ['x', 0, 2, 2, 1, 0],
    'B Minor': ['x', 2, 4, 4, 3, 2],
    'C Minor': ['x', 3, 5, 5, 4, 3],
    'D Minor': ['x', 'x', 0, 2, 3, 1],
    'E Minor': [0, 2, 2, 0, 0, 0],
    'F Minor': [1, 3, 3, 0, 0, 1],
    'G Minor': [3, 5, 5, 0, 0, 3],
    'A# Minor': ['x', 1, 3, 3, 2, 1],
    'C# Minor': ['x', 4, 6, 6, 5, 4],
    'D# Minor': ['x', 6, 8, 8, 7, 6],
    'F# Minor': [2, 4, 4, 0, 0, 2],
    'G# Minor': [4, 6, 6, 0, 0, 4]
}

string_names = ['E', 'A', 'D', 'G', 'B', 'E']
string_labels = ['E', 'A', 'D', 'G', 'B', 'e']
string_colors = ['#1A237E',  # 6E - Indigo (deep, foundational)
    '#0D47A1',  # 5A - Cobalt Blue
    '#388E3C',  # 4D - Deep Green
    '#F57C00',  # 3G - Orange (mid-bright tone)
    '#C2185B',  # 2B - Rose Red (expressive)
    '#6A1B9A']   # 1e - Violet (light & trebly)

barre_chords = {
    'B Major', 'F Major', 'A# Major', 'C# Major', 'D# Major', 'F# Major', 'G# Major',
    'B Minor', 'C Minor', 'F Minor', 'G Minor', 'A# Minor', 'C# Minor', 'D# Minor','F# Minor','G# Minor'
}

save_path = r"D:\Backup\Music recog versions\Raga lib"
os.makedirs(save_path, exist_ok=True)

def draw_chord(chord_name, positions):
    fig, ax = plt.subplots(figsize=(4, 6))

    strings = 6
    frets_to_show = 5

    numeric_positions = [f for f in positions if isinstance(f, int) and f > 0]
    start_fret = min(numeric_positions) if numeric_positions else 1
    start_fret = max(1, start_fret - 1)

    # Draw string lines with string_colors
    for i in range(strings):
        ax.plot([i, i], [0, frets_to_show], color=string_colors[i], lw=2)

    # Draw fret lines
    for j in range(frets_to_show + 1):
        lw = 5 if j == 0 else 2
        ax.plot([0, strings - 1], [j, j], color='black', lw=lw)

    # Fret numbers
    for f in range(1, frets_to_show + 1):
        ax.text(strings - 0.2, f - 0.5, str(start_fret + f - 1), va='center', ha='left', fontsize=10)

    # String labels
    for i, name in enumerate(string_names):
        ax.text(i, -1.2, name, ha='center', va='center', fontsize=12, color=string_colors[i], fontweight='bold')

    # Dot markers
    for dot_fret in [3, 5, 7, 9, 12]:
        if start_fret <= dot_fret < start_fret + frets_to_show:
            ax.add_patch(plt.Circle((2.5, dot_fret - start_fret + 0.5), 0.1, color='gray'))

    # Draw notes
    for i, fret in enumerate(positions):
        x = i
        if fret == 'x':
            ax.text(x, -0.5, 'X', ha='center', va='center', fontsize=12, color='red')
        elif fret == 0:
            ax.text(x, -0.5, 'O', ha='center', va='center', fontsize=12, color='green')
        else:
            y = fret - start_fret + 0.5
            ax.add_patch(plt.Circle((x, y), 0.25, color='blue'))

    # Draw barre if applicable
    if chord_name in barre_chords:
        fret_to_check = min([f for f in positions if isinstance(f, int)])
        y = fret_to_check - start_fret + 0.5
        barre_start = next(i for i, f in enumerate(positions) if f == fret_to_check)
        barre_end = max(i for i, f in enumerate(positions) if f == fret_to_check)
        ax.plot([barre_start, barre_end], [y, y], lw=6, color='black', solid_capstyle='round')

    # Final formatting
    ax.set_title(chord_name, fontsize=14, pad=20)
    ax.set_xlim(-0.5, strings - 0.5)
    ax.set_ylim(-1.5, frets_to_show + 0.5)
    ax.axis('off')
    plt.gca().invert_yaxis()
    plt.tight_layout()

    filename = os.path.join(save_path, f"{chord_name}.jpg")
    plt.savefig(filename, dpi=3400)
    plt.close()

# Generate all diagrams
for name, pos in chords.items():
    draw_chord(name, pos)

print("✅ Chord diagrams saved successfully.")
